{
 "cells": [
  {
   "cell_type": "markdown",
   "id": "f8949445",
   "metadata": {},
   "source": [
    "# Data Science Tools and Ecosystem"
   ]
  },
  {
   "cell_type": "markdown",
   "id": "dedfea29",
   "metadata": {},
   "source": [
    "In this notebook, Data Sicence Tools and Ecosystem are summarized"
   ]
  },
  {
   "cell_type": "markdown",
   "id": "946d9e1c",
   "metadata": {},
   "source": [
    "Some of the popular languages that Data Scientists use are:\n",
    "\n",
    "1. Python\n",
    "2. Julia\n",
    "3. R"
   ]
  },
  {
   "cell_type": "markdown",
   "id": "8877eb56",
   "metadata": {},
   "source": [
    "Some of the commonly used libraries used by Data Scientists include:\n",
    "\n",
    "1. Pandas\n",
    "2. Matplotlib\n",
    "3. NumPy"
   ]
  },
  {
   "cell_type": "markdown",
   "id": "0d0329ac",
   "metadata": {},
   "source": [
    "| Data Science Tools|\n",
    "| -------------|\n",
    "| Jupyter Notebooks |\n",
    "| RStudio |\n",
    "| Visual Studio Code |"
   ]
  },
  {
   "cell_type": "markdown",
   "id": "0d4afb0d",
   "metadata": {},
   "source": [
    "### Below are a few examples of evaluating arithmetic expressions in Python."
   ]
  },
  {
   "cell_type": "code",
   "execution_count": 7,
   "id": "17449679",
   "metadata": {},
   "outputs": [
    {
     "data": {
      "text/plain": [
       "17"
      ]
     },
     "execution_count": 7,
     "metadata": {},
     "output_type": "execute_result"
    }
   ],
   "source": [
    "# This a simple arithmetic expression to mutiply then add integers.\n",
    "(3*4)+5"
   ]
  },
  {
   "cell_type": "code",
   "execution_count": 10,
   "id": "ee52a58d",
   "metadata": {},
   "outputs": [
    {
     "name": "stdout",
     "output_type": "stream",
     "text": [
      "The amount of hours that 200 is 3.3333333333333335\n"
     ]
    }
   ],
   "source": [
    "#This will convert 200 minutes to hours by diving by 60.\n",
    "\n",
    "hour = 60\n",
    "totalMinutes = 200\n",
    "result = totalMinutes/hour\n",
    "print(\"The amount of hours that \" + str(totalMinutes) + \" is \" + str(result))"
   ]
  },
  {
   "cell_type": "markdown",
   "id": "30d0167a",
   "metadata": {},
   "source": [
    "_Objectives_\n",
    "\n",
    "*Listed popular languages in Data Science\n",
    "*Listed Commonly used libraries in Data Science\n",
    "*How to convert minutes to hours\n",
    "*How to use Markdown cells\n"
   ]
  },
  {
   "cell_type": "markdown",
   "id": "831fe54c",
   "metadata": {},
   "source": [
    "## Author: \n",
    "_Christian_"
   ]
  },
  {
   "cell_type": "code",
   "execution_count": null,
   "id": "c559b61d",
   "metadata": {},
   "outputs": [],
   "source": []
  }
 ],
 "metadata": {
  "kernelspec": {
   "display_name": "Python 3 (ipykernel)",
   "language": "python",
   "name": "python3"
  },
  "language_info": {
   "codemirror_mode": {
    "name": "ipython",
    "version": 3
   },
   "file_extension": ".py",
   "mimetype": "text/x-python",
   "name": "python",
   "nbconvert_exporter": "python",
   "pygments_lexer": "ipython3",
   "version": "3.9.7"
  }
 },
 "nbformat": 4,
 "nbformat_minor": 5
}
